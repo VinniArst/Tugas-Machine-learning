{
  "nbformat": 4,
  "nbformat_minor": 0,
  "metadata": {
    "colab": {
      "name": "Week 13 GRU.ipynb",
      "provenance": [],
      "authorship_tag": "ABX9TyNibkvyuKC81+b1Fr77Jes6",
      "include_colab_link": true
    },
    "kernelspec": {
      "name": "python3",
      "display_name": "Python 3"
    },
    "language_info": {
      "name": "python"
    }
  },
  "cells": [
    {
      "cell_type": "markdown",
      "metadata": {
        "id": "view-in-github",
        "colab_type": "text"
      },
      "source": [
        "<a href=\"https://colab.research.google.com/github/VinniArst/Tugas-Machine-learning/blob/main/Week_13_GRU.ipynb\" target=\"_parent\"><img src=\"https://colab.research.google.com/assets/colab-badge.svg\" alt=\"Open In Colab\"/></a>"
      ]
    },
    {
      "cell_type": "code",
      "execution_count": 1,
      "metadata": {
        "id": "yIZ4Ay1WHvYx"
      },
      "outputs": [],
      "source": [
        "import json\n",
        "\n",
        "import pandas as pd\n",
        "import numpy as np\n",
        "import plotly.express as px\n",
        "import tensorflow.keras.layers as L\n",
        "import tensorflow as tf\n",
        "from sklearn.model_selection import train_test_split"
      ]
    },
    {
      "cell_type": "code",
      "source": [
        "tf.random.set_seed(2020)\n",
        "np.random.seed(2020)"
      ],
      "metadata": {
        "id": "0QG5O2bTH4SC"
      },
      "execution_count": 2,
      "outputs": []
    },
    {
      "cell_type": "code",
      "source": [
        "# This will tell us the columns we are predicting\n",
        "pred_cols = ['reactivity', 'deg_Mg_pH10', 'deg_Mg_50C', 'deg_pH10', 'deg_50C']"
      ],
      "metadata": {
        "id": "Lfo0Ap3wH4UJ"
      },
      "execution_count": 3,
      "outputs": []
    },
    {
      "cell_type": "code",
      "source": [
        "y_true = tf.random.normal((32, 68, 3))\n",
        "y_pred = tf.random.normal((32, 68, 3))"
      ],
      "metadata": {
        "id": "T2xWRJCSH4Xv"
      },
      "execution_count": 4,
      "outputs": []
    },
    {
      "cell_type": "code",
      "source": [
        "def MCRMSE(y_true, y_pred):\n",
        "    colwise_mse = tf.reduce_mean(tf.square(y_true - y_pred), axis=1)\n",
        "    return tf.reduce_mean(tf.sqrt(colwise_mse), axis=1)"
      ],
      "metadata": {
        "id": "qdSYDqAhH4i8"
      },
      "execution_count": 5,
      "outputs": []
    },
    {
      "cell_type": "code",
      "source": [
        "def gru_layer(hidden_dim, dropout):\n",
        "    return L.Bidirectional(L.GRU(\n",
        "        hidden_dim, dropout=dropout, return_sequences=True, kernel_initializer='orthogonal'))"
      ],
      "metadata": {
        "id": "4iOifDJnH4lR"
      },
      "execution_count": 6,
      "outputs": []
    },
    {
      "cell_type": "code",
      "source": [
        "def build_model(embed_size, seq_len=107, pred_len=68, dropout=0.5, \n",
        "                sp_dropout=0.2, embed_dim=200, hidden_dim=256, n_layers=3):\n",
        "    inputs = L.Input(shape=(seq_len, 3))\n",
        "    embed = L.Embedding(input_dim=embed_size, output_dim=embed_dim)(inputs)\n",
        "    \n",
        "    reshaped = tf.reshape(\n",
        "        embed, shape=(-1, embed.shape[1],  embed.shape[2] * embed.shape[3])\n",
        "    )\n",
        "    hidden = L.SpatialDropout1D(sp_dropout)(reshaped)\n",
        "    \n",
        "    for x in range(n_layers):\n",
        "        hidden = gru_layer(hidden_dim, dropout)(hidden)\n",
        "    \n",
        "    # Since we are only making predictions on the first part of each sequence, \n",
        "    # we have to truncate it\n",
        "    truncated = hidden[:, :pred_len]\n",
        "    out = L.Dense(5, activation='linear')(truncated)\n",
        "    \n",
        "    model = tf.keras.Model(inputs=inputs, outputs=out)\n",
        "    model.compile(tf.optimizers.Adam(), loss=MCRMSE)\n",
        "    \n",
        "    return model"
      ],
      "metadata": {
        "id": "3p8oklrAH4oy"
      },
      "execution_count": 7,
      "outputs": []
    },
    {
      "cell_type": "code",
      "source": [
        "def pandas_list_to_array(df):\n",
        "    \"\"\"\n",
        "    Input: dataframe of shape (x, y), containing list of length l\n",
        "    Return: np.array of shape (x, l, y)\n",
        "    \"\"\"\n",
        "    \n",
        "    return np.transpose(\n",
        "        np.array(df.values.tolist()),\n",
        "        (0, 2, 1)\n",
        "    )"
      ],
      "metadata": {
        "id": "vtVVbRtgIDcq"
      },
      "execution_count": 8,
      "outputs": []
    },
    {
      "cell_type": "code",
      "source": [
        "def preprocess_inputs(df, token2int, cols=['sequence', 'structure', 'predicted_loop_type']):\n",
        "    return pandas_list_to_array(\n",
        "        df[cols].applymap(lambda seq: [token2int[x] for x in seq])\n",
        "    )"
      ],
      "metadata": {
        "id": "KPh404C3IDeq"
      },
      "execution_count": 9,
      "outputs": []
    }
  ]
}